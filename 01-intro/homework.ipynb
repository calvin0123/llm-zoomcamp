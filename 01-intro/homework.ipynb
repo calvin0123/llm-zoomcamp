{
 "cells": [
  {
   "cell_type": "code",
   "execution_count": 1,
   "id": "5f6f0e2a-bc45-4a30-a877-bec48bf3092d",
   "metadata": {},
   "outputs": [],
   "source": [
    "import openai"
   ]
  },
  {
   "cell_type": "code",
   "execution_count": 2,
   "id": "607235f4-f558-4f3d-ad6e-7b0f92ca1882",
   "metadata": {},
   "outputs": [],
   "source": [
    "from openai import OpenAI"
   ]
  },
  {
   "cell_type": "code",
   "execution_count": 8,
   "id": "68063a88-673a-4fe6-91ae-f6dd461ba8ac",
   "metadata": {},
   "outputs": [],
   "source": [
    "client = OpenAI()\n"
   ]
  },
  {
   "cell_type": "code",
   "execution_count": 9,
   "id": "8724727b-7d64-40d5-9574-6b2fcd75db72",
   "metadata": {},
   "outputs": [],
   "source": [
    "import sys\n",
    "import os"
   ]
  },
  {
   "cell_type": "code",
   "execution_count": 10,
   "id": "8be4b73d-33c0-45bf-a5a4-8d8fcf62b59a",
   "metadata": {},
   "outputs": [],
   "source": [
    "# os.environ"
   ]
  },
  {
   "cell_type": "code",
   "execution_count": 11,
   "id": "a58bb5bc-f0ca-45a2-9309-b9677890c93c",
   "metadata": {},
   "outputs": [],
   "source": [
    "response = client.chat.completions.create(\n",
    "    model='gpt-4o',\n",
    "    messages=[{\"role\": \"user\", \"content\": \"is it too late to join the course?\"}]\n",
    ")"
   ]
  },
  {
   "cell_type": "code",
   "execution_count": 13,
   "id": "b48c478a-9557-4cdc-80b3-552d22277bb3",
   "metadata": {},
   "outputs": [
    {
     "data": {
      "text/plain": [
       "\"The answer to whether it's too late to join a course depends on several factors:\\n\\n1. **Enrollment Deadlines**: Check the registration deadlines set by the institution offering the course. Some institutions have strict cutoff dates, while others may allow late enrollments with specific permissions.\\n\\n2. **Course Structure**: Some courses, particularly online ones, might have rolling admissions or flexible start dates that allow you to join at any time. Traditional in-person courses might have more rigid start and end dates.\\n\\n3. **Instructor Permission**: Often, instructors have the discretion to allow students to join a course late, provided they can catch up on missed work. Contacting the instructor directly could give you a clearer answer.\\n\\n4. **Administrative Policies**: Universities and schools have specific policies regarding late enrollment. Check with the academic registrar or relevant administrative office for guidance.\\n\\n5. **Catch-up Work**: Even if late enrollment is allowed, be prepared to review and understand any material already covered in the course. Assess whether you have the time and resources to catch up effectively.\\n\\n6. **Availability of Spots**: Some courses may have a cap on the number of students who can enroll. Ensure there are still available spots in the course.\\n\\nTo get a definitive answer, it's best to reach out directly to the institution offering the course or check their official website for detailed information.\""
      ]
     },
     "execution_count": 13,
     "metadata": {},
     "output_type": "execute_result"
    }
   ],
   "source": [
    "response.choices[0].message.content"
   ]
  },
  {
   "cell_type": "code",
   "execution_count": null,
   "id": "570574ad-7776-404f-ad1f-767e51f3ff20",
   "metadata": {},
   "outputs": [],
   "source": []
  },
  {
   "cell_type": "code",
   "execution_count": null,
   "id": "bb4b83c0-77d4-41ad-a9a5-4e824b267bfa",
   "metadata": {},
   "outputs": [],
   "source": []
  }
 ],
 "metadata": {
  "kernelspec": {
   "display_name": "Python 3 (ipykernel)",
   "language": "python",
   "name": "python3"
  },
  "language_info": {
   "codemirror_mode": {
    "name": "ipython",
    "version": 3
   },
   "file_extension": ".py",
   "mimetype": "text/x-python",
   "name": "python",
   "nbconvert_exporter": "python",
   "pygments_lexer": "ipython3",
   "version": "3.10.13"
  }
 },
 "nbformat": 4,
 "nbformat_minor": 5
}
